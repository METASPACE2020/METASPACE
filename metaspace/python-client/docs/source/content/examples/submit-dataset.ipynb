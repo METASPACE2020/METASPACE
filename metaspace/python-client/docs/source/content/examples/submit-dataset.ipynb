{
 "cells": [
  {
   "cell_type": "markdown",
   "metadata": {},
   "source": [
    "## Log in to METASPACE\n",
    "\n",
    "To authenticate with METASPACE, generate an API key from your\n",
    "[account page](https://metaspace2020.eu/user/me) and enter it below"
   ]
  },
  {
   "cell_type": "code",
   "execution_count": null,
   "metadata": {},
   "outputs": [],
   "source": [
    "import json, getpass\n",
    "from metaspace import SMInstance\n",
    "\n",
    "sm = SMInstance()\n",
    "sm"
   ]
  },
  {
   "cell_type": "code",
   "execution_count": null,
   "metadata": {
    "pycharm": {
     "name": "#%%\n"
    }
   },
   "outputs": [],
   "source": [
    "# This will prompt you to enter your API key. \n",
    "# Note that API keys should be kept secret like passwords. \n",
    "# You can alternatively save your API key in a config file - see config.template for more details.\n",
    "if not sm.logged_in():\n",
    "    # Using getpass here prevents the API key from being accidentally saved with this notebook.\n",
    "    api_key = getpass.getpass(prompt='API key: ', stream=None)\n",
    "    sm.login(api_key=api_key)"
   ]
  },
  {
   "cell_type": "markdown",
   "metadata": {
    "pycharm": {
     "name": "#%% md\n"
    }
   },
   "source": [
    "## Provide local paths to your imzML and Ibd files"
   ]
  },
  {
   "cell_type": "code",
   "execution_count": null,
   "metadata": {
    "pycharm": {
     "name": "#%%\n"
    }
   },
   "outputs": [],
   "source": [
    "ibd_fn = 'your_path_to_IbdFile/Name.ibd'\n",
    "imzml_fn = 'your_path_to_imzMLFile/Name.imzML'"
   ]
  },
  {
   "cell_type": "markdown",
   "metadata": {
    "pycharm": {
     "name": "#%% md\n"
    }
   },
   "source": [
    "## Provide metadata for your dataset"
   ]
  },
  {
   "cell_type": "code",
   "execution_count": null,
   "metadata": {
    "pycharm": {
     "name": "#%%\n"
    }
   },
   "outputs": [],
   "source": [
    "dataset_name = 'Sample Name'\n",
    "metadata = {\n",
    "    'Data_Type': 'Imaging MS',  # shouldn't be changed\n",
    "    'Sample_Information': {\n",
    "        'Organism': 'Species',\n",
    "        'Organism_Part': 'Organ or organism part',\n",
    "        'Condition': 'E.g. wildtype, diseased',\n",
    "        'Sample_Growth_Conditions': 'E.g. intervention, treatment'  # this is an extra field\n",
    "    },\n",
    "    'Sample_Preparation': {\n",
    "        'Sample_Stabilisation': 'Preservation method',\n",
    "        'Tissue_Modification': 'E.g. chemical modification',\n",
    "        'MALDI_Matrix': '2,5-dihydroxybenzoic acid (DHB)',\n",
    "        'MALDI_Matrix_Application': 'ImagePrep',\n",
    "        'Solvent': 'none'  # this is an extra field\n",
    "    },\n",
    "    'MS_Analysis': {\n",
    "        'Polarity': 'Ion polarity mode[Positive/Negative]',\n",
    "        'Ionisation_Source': 'E.g. MALDI, DESI',\n",
    "        'Analyzer': 'E.g. FTICR, Orbitrap',\n",
    "        'Detector_Resolving_Power': {\n",
    "            'mz': 400,\n",
    "            'Resolving_Power': 130000\n",
    "        },\n",
    "        'Pixel_Size': {\n",
    "            'Xaxis': 20,\n",
    "            'Yaxis': 40\n",
    "        },\n",
    "        'Submitted_By': {\n",
    "            'Submitter': {\n",
    "                'Email': 'your Email',  # e-mail which you used to register on MS\n",
    "                'First_Name': 'Name',\n",
    "                'Surname': 'Surname'\n",
    "            }\n",
    "        }\n",
    "    }\n",
    "}"
   ]
  },
  {
   "cell_type": "markdown",
   "metadata": {
    "pycharm": {
     "name": "#%% md\n"
    }
   },
   "source": [
    "## Specify list of databases against which you want to analyze your dataset "
   ]
  },
  {
   "cell_type": "code",
   "execution_count": null,
   "metadata": {
    "pycharm": {
     "name": "#%%\n"
    }
   },
   "outputs": [],
   "source": [
    "# Available databases:\n",
    "# Please notice that if you choose more than 3 databases the processing may take a while\n",
    "\n",
    "# BraChemDB-2018-01\n",
    "# ChEBI-2018-01\n",
    "# HMDB-v2.5\n",
    "# HMDB-v4\n",
    "# HMDB-v4-cotton\n",
    "# LipidMaps-2017-12-12\n",
    "# PAMDB-v1.0\n",
    "# SwissLipids-2018-02-02\n",
    "\n",
    "databases = ['HMDB-v4', 'ChEBI-2018-01']"
   ]
  },
  {
   "cell_type": "markdown",
   "metadata": {
    "pycharm": {
     "name": "#%% md\n"
    }
   },
   "source": [
    "## Dataset visibility (Private/Public)"
   ]
  },
  {
   "cell_type": "markdown",
   "metadata": {},
   "source": [
    "We are currently allow users to choose if they want their datasets and annotations to be available publicly or not. \n",
    "Set the value below to `True` if you want it to be public."
   ]
  },
  {
   "cell_type": "code",
   "execution_count": null,
   "metadata": {
    "pycharm": {
     "name": "#%%\n"
    }
   },
   "outputs": [],
   "source": [
    "is_public = False # or True"
   ]
  },
  {
   "cell_type": "markdown",
   "metadata": {
    "pycharm": {
     "name": "#%% md\n"
    }
   },
   "source": [
    "## Submit the dataset"
   ]
  },
  {
   "cell_type": "code",
   "execution_count": null,
   "metadata": {},
   "outputs": [],
   "source": [
    "sm.submit_dataset_v2(\n",
    "    imzml_fn, ibd_fn, dataset_name, json.dumps(metadata),\n",
    "    is_public=is_public, moldbs=databases, adducts=adducts\n",
    ")"
   ]
  },
  {
   "cell_type": "markdown",
   "metadata": {},
   "source": [
    "- After submission, you should see the following message\n",
    "`{'createDataset': '{\"datasetId\": \"your_id\", \"status\": \"success\"}'}`.\n",
    "Go to [metaspace](http://metaspace2020.eu/) to check your annotations!\n",
    "\n",
    "- If you get `KeyError: 'errors'` make sure that you provided API token and try it again\n",
    "\n",
    "- If you don't see any messages at all, please check if correct metadata is provided,\n",
    "especially if you've specified `Polarity: Positive or Negative`."
   ]
  }
 ],
 "metadata": {
  "kernelspec": {
   "display_name": "sm",
   "language": "python",
   "name": "sm"
  },
  "language_info": {
   "codemirror_mode": {
    "name": "ipython",
    "version": 3
   },
   "file_extension": ".py",
   "mimetype": "text/x-python",
   "name": "python",
   "nbconvert_exporter": "python",
   "pygments_lexer": "ipython3",
   "version": "3.6.9"
  },
  "widgets": {
   "application/vnd.jupyter.widget-state+json": {
    "state": {},
    "version_major": 2,
    "version_minor": 0
   }
  }
 },
 "nbformat": 4,
 "nbformat_minor": 2
}