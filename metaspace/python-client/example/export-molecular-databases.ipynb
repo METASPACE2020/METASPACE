{
 "cells": [
  {
   "cell_type": "code",
   "execution_count": 4,
   "metadata": {},
   "outputs": [],
   "source": [
    "from metaspace.sm_annotation_utils import MolDBClient, get_config"
   ]
  },
  {
   "cell_type": "code",
   "execution_count": 5,
   "metadata": {},
   "outputs": [
    {
     "data": {
      "text/plain": [
       "[MolDB(BraChemDB-2018-01 [2018-03-08]),\n",
       " MolDB(ChEBI [2016]),\n",
       " MolDB(ChEBI-2018-01 [2018-03-08]),\n",
       " MolDB(ECMDB-2018-12 [2018-12-13]),\n",
       " MolDB(EMBL-dev1 [2018-09-12]),\n",
       " MolDB(EMBL-dev2 [2000-01-01]),\n",
       " MolDB(HMDB-v2.5 [2018-03-08]),\n",
       " MolDB(HMDB-v2.5-cotton [2017-07-31]),\n",
       " MolDB(HMDB-v4 [2018-04-09]),\n",
       " MolDB(HMDB-v4-cotton [2018-04-27]),\n",
       " MolDB(HMDB-v4-endogenous [2018-04-09]),\n",
       " MolDB(LIPID_MAPS [2016]),\n",
       " MolDB(LipidMaps-2017-12-12 [2018-03-08]),\n",
       " MolDB(M4I_1-2019-06 [2019-06-15]),\n",
       " MolDB(PAMDB-v1.0 [2018-03-08]),\n",
       " MolDB(SwissLipids [2016]),\n",
       " MolDB(SwissLipids-2018-02-02 [2018-03-08])]"
      ]
     },
     "execution_count": 5,
     "metadata": {},
     "output_type": "execute_result"
    }
   ],
   "source": [
    "config = get_config('https://metaspace2020.eu')\n",
    "client = MolDBClient(config)\n",
    "client.getDatabaseList()"
   ]
  },
  {
   "cell_type": "code",
   "execution_count": 6,
   "metadata": {},
   "outputs": [
    {
     "data": {
      "text/plain": [
       "(113742, 3)"
      ]
     },
     "execution_count": 6,
     "metadata": {},
     "output_type": "execute_result"
    }
   ],
   "source": [
    "moldb = client.getDatabase('HMDB-v4')\n",
    "# moldb = client.getDatabase('HMDB-v4-endogenous')\n",
    "df = pd.DataFrame(moldb.molecules(limit=500000))\n",
    "df.shape"
   ]
  },
  {
   "cell_type": "code",
   "execution_count": 7,
   "metadata": {},
   "outputs": [
    {
     "data": {
      "text/html": [
       "<div>\n",
       "<style scoped>\n",
       "    .dataframe tbody tr th:only-of-type {\n",
       "        vertical-align: middle;\n",
       "    }\n",
       "\n",
       "    .dataframe tbody tr th {\n",
       "        vertical-align: top;\n",
       "    }\n",
       "\n",
       "    .dataframe thead th {\n",
       "        text-align: right;\n",
       "    }\n",
       "</style>\n",
       "<table border=\"1\" class=\"dataframe\">\n",
       "  <thead>\n",
       "    <tr style=\"text-align: right;\">\n",
       "      <th></th>\n",
       "      <th>sf</th>\n",
       "      <th>mol_id</th>\n",
       "      <th>mol_name</th>\n",
       "    </tr>\n",
       "  </thead>\n",
       "  <tbody>\n",
       "    <tr>\n",
       "      <td>0</td>\n",
       "      <td>C18H20O5</td>\n",
       "      <td>HMDB0140276</td>\n",
       "      <td>1-(2-hydroxy-4,6-dimethoxyphenyl)-3-(4-methoxy...</td>\n",
       "    </tr>\n",
       "    <tr>\n",
       "      <td>1</td>\n",
       "      <td>C17H16O5</td>\n",
       "      <td>HMDB0140278</td>\n",
       "      <td>1-(2,6-dihydroxy-4-methoxyphenyl)-3-(4-methoxy...</td>\n",
       "    </tr>\n",
       "    <tr>\n",
       "      <td>2</td>\n",
       "      <td>C17H16O5</td>\n",
       "      <td>HMDB0140279</td>\n",
       "      <td>1-(2,4-dihydroxy-6-methoxyphenyl)-3-(4-methoxy...</td>\n",
       "    </tr>\n",
       "    <tr>\n",
       "      <td>3</td>\n",
       "      <td>C17H16O5</td>\n",
       "      <td>HMDB0140280</td>\n",
       "      <td>1-(2-hydroxy-4,6-dimethoxyphenyl)-3-(4-hydroxy...</td>\n",
       "    </tr>\n",
       "    <tr>\n",
       "      <td>4</td>\n",
       "      <td>C18H18O6</td>\n",
       "      <td>HMDB0140281</td>\n",
       "      <td>1-(3,6-dihydroxy-2,4-dimethoxyphenyl)-3-(4-met...</td>\n",
       "    </tr>\n",
       "  </tbody>\n",
       "</table>\n",
       "</div>"
      ],
      "text/plain": [
       "         sf       mol_id                                           mol_name\n",
       "0  C18H20O5  HMDB0140276  1-(2-hydroxy-4,6-dimethoxyphenyl)-3-(4-methoxy...\n",
       "1  C17H16O5  HMDB0140278  1-(2,6-dihydroxy-4-methoxyphenyl)-3-(4-methoxy...\n",
       "2  C17H16O5  HMDB0140279  1-(2,4-dihydroxy-6-methoxyphenyl)-3-(4-methoxy...\n",
       "3  C17H16O5  HMDB0140280  1-(2-hydroxy-4,6-dimethoxyphenyl)-3-(4-hydroxy...\n",
       "4  C18H18O6  HMDB0140281  1-(3,6-dihydroxy-2,4-dimethoxyphenyl)-3-(4-met..."
      ]
     },
     "execution_count": 7,
     "metadata": {},
     "output_type": "execute_result"
    }
   ],
   "source": [
    "df.head()"
   ]
  }
 ],
 "metadata": {
  "kernelspec": {
   "display_name": "sm",
   "language": "python",
   "name": "sm"
  },
  "language_info": {
   "codemirror_mode": {
    "name": "ipython",
    "version": 3
   },
   "file_extension": ".py",
   "mimetype": "text/x-python",
   "name": "python",
   "nbconvert_exporter": "python",
   "pygments_lexer": "ipython3",
   "version": "3.6.2"
  }
 },
 "nbformat": 4,
 "nbformat_minor": 2
}
