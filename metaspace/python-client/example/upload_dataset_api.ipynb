{
 "cells": [
  {
   "cell_type": "markdown",
   "metadata": {},
   "source": [
    "# Accessing metaspace and submitting a dataset example\n",
    "\n"
   ]
  },
  {
   "cell_type": "markdown",
   "metadata": {},
   "source": [
    "### Connect to the metaspace server"
   ]
  },
  {
   "cell_type": "code",
   "execution_count": null,
   "metadata": {},
   "outputs": [],
   "source": [
    "import json, pprint\n",
    "from metaspace.sm_annotation_utils import SMInstance\n",
    "sm = SMInstance()"
   ]
  },
  {
   "cell_type": "markdown",
   "metadata": {},
   "source": [
    "### Get your JWT token for API access"
   ]
  },
  {
   "cell_type": "markdown",
   "metadata": {},
   "source": [
    "- Please go to [metaspace](http://metaspace2020.eu/) and in the right corner click Sign In (Sign Out if you are registered already).\n",
    "- Enter your email to _Send a link to_ input field **(DON'T USE AUTHETICATION WITH GOOGLE!)**\n",
    "![MS_image](https://image.ibb.co/eKptqU/Screenshot_from_2018_09_13_18_23_54.png)\n",
    "\n",
    "- After you get a link to log in to your Email, click on it and go to [getApiToken](http://metaspace2020.eu/getApiToken)\n",
    "- Copy your API token and paste it below"
   ]
  },
  {
   "cell_type": "code",
   "execution_count": null,
   "metadata": {},
   "outputs": [],
   "source": [
    "# Your API token:\n",
    "\n",
    "sm._config['jwt'] = '' # Please enter inside the quotes\n",
    "sm.reconnect()"
   ]
  },
  {
   "cell_type": "markdown",
   "metadata": {},
   "source": [
    "### Provide local paths to your imzML and Ibd files"
   ]
  },
  {
   "cell_type": "code",
   "execution_count": null,
   "metadata": {},
   "outputs": [],
   "source": [
    "imzml_fn = '/home/renat/intern/my_forks/sm-engine/tests/data/untreated/Untreated_3_434.imzML'\n",
    "ibd_fn = '/home/renat/intern/my_forks/sm-engine/tests/data/untreated/Untreated_3_434.ibd'"
   ]
  },
  {
   "cell_type": "markdown",
   "metadata": {},
   "source": [
    "### Provide metadata for your dataset"
   ]
  },
  {
   "cell_type": "code",
   "execution_count": null,
   "metadata": {},
   "outputs": [],
   "source": [
    "datasetName = \"Sample Name\"\n",
    "metadata = {'Data_Type': 'Imaging MS', #Shouldn't be changed\n",
    " 'MS_Analysis': {'Analyzer': 'E.g. FTICR, Orbitrap',\n",
    "                 'Detector_Resolving_Power': {'Resolving_Power': 130000,\n",
    "                                              'mz': 400},\n",
    "                 'Ionisation_Source': 'E.g. MALDI, DESI',\n",
    "                 'Polarity': 'Ion polarity mode[Positive/Negative]'},\n",
    " 'Sample_Information': {\n",
    "                        'Organism': 'Species',\n",
    "                        'Organism_Part': 'Organ or organism part',\n",
    "                        'Sample_Growth_Conditions': 'E.g. intervention, treatment', #This is an extra field\n",
    "                        'Condition': 'E.g. wildtype, diseased'}, #This is an extra field\n",
    " 'Sample_Preparation': {'MALDI_Matrix': '2,5-dihydroxybenzoic acid (DHB)',\n",
    "                        'MALDI_Matrix_Application': 'ImagePrep',\n",
    "                        'Sample_Stabilisation': 'Preservation method',\n",
    "                        'Solvent': 'none',\n",
    "                        'Tissue_Modification': 'E.g. chemical modification'}, #This is an extra field\n",
    " 'Submitted_By': {'Institution': 'University X',\n",
    "                  'Principal_Investigator': {'Email': 'yourPI_email@email.com',\n",
    "                                             'First_Name': 'PI_Name',\n",
    "                                             'Surname': 'PI_Surname'},\n",
    "                  'Submitter': {'Email': 'your Email', #Email which you used to register on MS\n",
    "                                'First_Name': 'Name',\n",
    "                                'Surname': 'Surname'}}}\n",
    "pprint.pprint(metadata)"
   ]
  },
  {
   "cell_type": "markdown",
   "metadata": {},
   "source": [
    "### Specify list of databases against which you want to analyze your dataset "
   ]
  },
  {
   "cell_type": "code",
   "execution_count": null,
   "metadata": {},
   "outputs": [],
   "source": [
    "# Available databases:\n",
    "# Please notice that if you choose more than 3 databases the processing may take a while\n",
    "\n",
    "# BraChemDB-2018-01\n",
    "# ChEBI-2018-01\n",
    "# HMDB-v4\n",
    "# HMDB-v4-cotton\n",
    "# HMDB-v4-dev\n",
    "# HMDB-v4-endogenous\n",
    "# HMDB-v2.5\n",
    "# LipidMaps-2017-12-12\n",
    "# PAMDB-v1.0\n",
    "# SwissLipids-2018-02-02\n",
    "\n",
    "databases = ['HMDB-v4', 'ChEBI-2018-01']"
   ]
  },
  {
   "cell_type": "markdown",
   "metadata": {},
   "source": [
    "### Dataset visibility(Private/Public)"
   ]
  },
  {
   "cell_type": "markdown",
   "metadata": {},
   "source": [
    "We are currently allow users to choose if they want their datasets and annotations to be available publicly or not. \n",
    "Set the value below to False if you want it to be private "
   ]
  },
  {
   "cell_type": "code",
   "execution_count": null,
   "metadata": {},
   "outputs": [],
   "source": [
    "isPublic = True # or False"
   ]
  },
  {
   "cell_type": "markdown",
   "metadata": {},
   "source": [
    "### Upload the dataset"
   ]
  },
  {
   "cell_type": "code",
   "execution_count": null,
   "metadata": {
    "scrolled": true
   },
   "outputs": [],
   "source": [
    "if metadata['MS_Analysis']['Polarity'] == 'Positive':\n",
    "    adducts = ['+H', '+Na', '+K']\n",
    "else: \n",
    "    adducts = ['-H', '+Cl']\n",
    "\n",
    "sm.submit_dataset(imzml_fn, ibd_fn, json.dumps(metadata), dsid=None, folder_uuid = None, dsName=datasetName,\n",
    "                  isPublic, molDBs=databases, adducts=adducts, s3bucket = 'sm-external-export', priority=0)"
   ]
  },
  {
   "cell_type": "markdown",
   "metadata": {},
   "source": [
    "- After submission you should see the following message\n",
    "{'createDataset': '{\"status\": \"success\", \"ds_id\": \"2018-09-13_16h58m22s\"}'}\n",
    "Go to [metaspace](http://metaspace2020.eu/) to check your annotatoins!\n",
    "\n",
    "- If you get _KeyError: 'errors'_ make sure that you provided API token and try it again"
   ]
  }
 ],
 "metadata": {
  "kernelspec": {
   "display_name": "Python 3",
   "language": "python",
   "name": "python3"
  },
  "language_info": {
   "codemirror_mode": {
    "name": "ipython",
    "version": 3
   },
   "file_extension": ".py",
   "mimetype": "text/x-python",
   "name": "python",
   "nbconvert_exporter": "python",
   "pygments_lexer": "ipython3",
   "version": "3.6.6"
  }
 },
 "nbformat": 4,
 "nbformat_minor": 2
}
