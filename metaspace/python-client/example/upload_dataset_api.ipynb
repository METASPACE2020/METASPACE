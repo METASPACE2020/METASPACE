{
 "cells": [
  {
   "cell_type": "markdown",
   "metadata": {},
   "source": [
    "# Accessing metaspace and submitting a dataset example\n",
    "\n"
   ]
  },
  {
   "cell_type": "markdown",
   "metadata": {},
   "source": [
    "Please note that to submit a dataset you will need AWS S3 Metaspace bucket credentials. If you don't have any, please [contact us over email](mailto:contact@metaspace2020.eu)."
   ]
  },
  {
   "cell_type": "markdown",
   "metadata": {},
   "source": [
    "### Connect to the metaspace server"
   ]
  },
  {
   "cell_type": "code",
   "execution_count": null,
   "metadata": {},
   "outputs": [],
   "source": [
    "import json, pprint\n",
    "from metaspace.sm_annotation_utils import SMInstance\n",
    "sm = SMInstance()\n",
    "sm"
   ]
  },
  {
   "cell_type": "markdown",
   "metadata": {},
   "source": [
    "### Enter your Email and Password"
   ]
  },
  {
   "cell_type": "markdown",
   "metadata": {},
   "source": [
    "- Make sure that you have already registered account on [metaspace](http://metaspace2020.eu/).\n",
    "- Enter your email and password below"
   ]
  },
  {
   "cell_type": "code",
   "execution_count": null,
   "metadata": {},
   "outputs": [],
   "source": [
    "# Your Email and Password on metaspace:\n",
    "\n",
    "email = 'Your Metaspace Email'\n",
    "password = 'Your Metaspace password'\n",
    "sm.login(email, password)"
   ]
  },
  {
   "cell_type": "markdown",
   "metadata": {},
   "source": [
    "### Provide local paths to your imzML and Ibd files"
   ]
  },
  {
   "cell_type": "code",
   "execution_count": null,
   "metadata": {},
   "outputs": [],
   "source": [
    "imzml_fn = 'your_path_toimzMLFile/Name.imzML'\n",
    "ibd_fn = 'your_path_toIbdFile/Name.ibd'"
   ]
  },
  {
   "cell_type": "markdown",
   "metadata": {},
   "source": [
    "### Provide metadata for your dataset"
   ]
  },
  {
   "cell_type": "code",
   "execution_count": null,
   "metadata": {},
   "outputs": [],
   "source": [
    "datasetName = \"Sample Name\"\n",
    "metadata = {'Data_Type': 'Imaging MS', #Shouldn't be changed\n",
    " 'MS_Analysis': {'Analyzer': 'E.g. FTICR, Orbitrap',\n",
    "                 'Detector_Resolving_Power': {'Resolving_Power': 130000,\n",
    "                                              'mz': 400},\n",
    "                 'Ionisation_Source': 'E.g. MALDI, DESI',\n",
    "                 'Polarity': 'Ion polarity mode[Positive/Negative]',\n",
    "                 'Pixel_Size': {\n",
    "                     'Xaxis': 20,\n",
    "                     'Yaxis': 40}\n",
    "                },\n",
    " 'Sample_Information': {\n",
    "                        'Organism': 'Species',\n",
    "                        'Organism_Part': 'Organ or organism part',\n",
    "                        'Sample_Growth_Conditions': 'E.g. intervention, treatment', #This is an extra field\n",
    "                        'Condition': 'E.g. wildtype, diseased'}, #This is an extra field\n",
    " 'Sample_Preparation': {'MALDI_Matrix': '2,5-dihydroxybenzoic acid (DHB)',\n",
    "                        'MALDI_Matrix_Application': 'ImagePrep',\n",
    "                        'Sample_Stabilisation': 'Preservation method',\n",
    "                        'Solvent': 'none',\n",
    "                        'Tissue_Modification': 'E.g. chemical modification'}, #This is an extra field\n",
    " 'Submitted_By': {'Institution': 'University X',\n",
    "                  'Principal_Investigator': {'Email': 'yourPI_email@email.com',\n",
    "                                             'First_Name': 'PI_Name',\n",
    "                                             'Surname': 'PI_Surname'},\n",
    "                  'Submitter': {'Email': 'your Email', #Email which you used to register on MS\n",
    "                                'First_Name': 'Name',\n",
    "                                'Surname': 'Surname'}}}"
   ]
  },
  {
   "cell_type": "markdown",
   "metadata": {},
   "source": [
    "### Specify list of databases against which you want to analyze your dataset "
   ]
  },
  {
   "cell_type": "code",
   "execution_count": null,
   "metadata": {},
   "outputs": [],
   "source": [
    "# Available databases:\n",
    "# Please notice that if you choose more than 3 databases the processing may take a while\n",
    "\n",
    "# BraChemDB-2018-01\n",
    "# ChEBI-2018-01\n",
    "# HMDB-v4\n",
    "# HMDB-v4-cotton\n",
    "# HMDB-v4-dev\n",
    "# HMDB-v4-endogenous\n",
    "# HMDB-v2.5\n",
    "# LipidMaps-2017-12-12\n",
    "# PAMDB-v1.0\n",
    "# SwissLipids-2018-02-02\n",
    "\n",
    "databases = ['HMDB-v4', 'ChEBI-2018-01']"
   ]
  },
  {
   "cell_type": "markdown",
   "metadata": {},
   "source": [
    "### Dataset visibility(Private/Public)"
   ]
  },
  {
   "cell_type": "markdown",
   "metadata": {},
   "source": [
    "We are currently allow users to choose if they want their datasets and annotations to be available publicly or not. \n",
    "Set the value below to False if you want it to be private "
   ]
  },
  {
   "cell_type": "code",
   "execution_count": null,
   "metadata": {},
   "outputs": [],
   "source": [
    "isPublic = True # or False"
   ]
  },
  {
   "cell_type": "markdown",
   "metadata": {},
   "source": [
    "### Upload the dataset"
   ]
  },
  {
   "cell_type": "code",
   "execution_count": null,
   "metadata": {
    "scrolled": true
   },
   "outputs": [],
   "source": [
    "if metadata['MS_Analysis']['Polarity'] == 'Positive':\n",
    "    adducts = ['+H', '+Na', '+K']\n",
    "else: \n",
    "    adducts = ['-H', '+Cl']\n",
    "\n",
    "sm.submit_dataset(imzml_fn, ibd_fn, json.dumps(metadata), dsid=None, folder_uuid = None, dsName=datasetName,\n",
    "                  isPublic=isPublic, molDBs=databases, adducts=adducts, s3bucket = 'sm-external-export', priority=0)"
   ]
  },
  {
   "cell_type": "markdown",
   "metadata": {},
   "source": [
    "- After submission you should see the following message\n",
    "{'createDataset': '{\"status\": \"success\", \"ds_id\": \"your_id\"}'}\n",
    "Go to [metaspace](http://metaspace2020.eu/) to check your annotatoins!\n",
    "\n",
    "- If you get _KeyError: 'errors'_ make sure that you provided API token and try it again\n",
    "\n",
    "- If you get _NoCredentialsError: Unable to locate credentials_ it means that you need AWS S3 Metaspace bucket credentials to upload data. Please [contact us over email](mailto:contact@metaspace2020.eu) to get them with the instructions\n",
    "\n",
    "- If you don't see any messages at all, please check if correct metadata is provided, especially if you've specified _Polarity: Positive or Negative_"
   ]
  }
 ],
 "metadata": {
  "kernelspec": {
   "display_name": "Python 3",
   "language": "python",
   "name": "python3"
  },
  "language_info": {
   "codemirror_mode": {
    "name": "ipython",
    "version": 3
   },
   "file_extension": ".py",
   "mimetype": "text/x-python",
   "name": "python",
   "nbconvert_exporter": "python",
   "pygments_lexer": "ipython3",
   "version": "3.6.6"
  },
  "widgets": {
   "application/vnd.jupyter.widget-state+json": {
    "state": {},
    "version_major": 2.0,
    "version_minor": 0.0
   }
  }
 },
 "nbformat": 4,
 "nbformat_minor": 2
}
