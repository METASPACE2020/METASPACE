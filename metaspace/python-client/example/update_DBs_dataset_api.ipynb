{
 "cells": [
  {
   "cell_type": "markdown",
   "metadata": {},
   "source": [
    "# Updating dataset databases example\n",
    "\n"
   ]
  },
  {
   "cell_type": "markdown",
   "metadata": {},
   "source": [
    "### Connect to the metaspace server"
   ]
  },
  {
   "cell_type": "code",
   "execution_count": null,
   "metadata": {},
   "outputs": [],
   "source": [
    "import json, pprint, getpass\n",
    "from metaspace.sm_annotation_utils import SMInstance\n",
    "sm = SMInstance()\n",
    "sm"
   ]
  },
  {
   "cell_type": "markdown",
   "metadata": {},
   "source": [
    "### Enter your Email and Password"
   ]
  },
  {
   "cell_type": "markdown",
   "metadata": {},
   "source": [
    "- Make sure that you have already registered account on [metaspace](http://metaspace2020.eu/).\n",
    "- Enter your email and password below"
   ]
  },
  {
   "cell_type": "code",
   "execution_count": null,
   "metadata": {},
   "outputs": [],
   "source": [
    "# Your Email and Password on metaspace:\n",
    "\n",
    "email = 'Your Metaspace Email'\n",
    "password = getpass.getpass(prompt='Password: ', stream=None)\n",
    "sm.login(email, password)"
   ]
  },
  {
   "cell_type": "markdown",
   "metadata": {},
   "source": [
    "### Specify dataset id"
   ]
  },
  {
   "cell_type": "code",
   "execution_count": null,
   "metadata": {},
   "outputs": [],
   "source": [
    "datasetId = \"datasetId to update\""
   ]
  },
  {
   "cell_type": "markdown",
   "metadata": {},
   "source": [
    "### Exisiting databases"
   ]
  },
  {
   "cell_type": "code",
   "execution_count": null,
   "metadata": {
    "scrolled": true
   },
   "outputs": [],
   "source": [
    "dataset = sm.dataset(id=datasetId)\n",
    "print(dataset.databases)"
   ]
  },
  {
   "cell_type": "markdown",
   "metadata": {},
   "source": [
    "### Specify list of new databases against which you want to analyze your dataset "
   ]
  },
  {
   "cell_type": "code",
   "execution_count": null,
   "metadata": {},
   "outputs": [],
   "source": [
    "# Available databases:\n",
    "# Please notice that if you choose more than 3 databases the processing may take a while\n",
    "\n",
    "# BraChemDB-2018-01\n",
    "# ChEBI-2018-01\n",
    "# HMDB-v4\n",
    "# HMDB-v4-cotton\n",
    "# HMDB-v4-dev\n",
    "# HMDB-v4-endogenous\n",
    "# HMDB-v2.5\n",
    "# LipidMaps-2017-12-12\n",
    "# PAMDB-v1.0\n",
    "# SwissLipids-2018-02-02\n",
    "\n",
    "new_databases = ['ChEBI-2018-01', 'LipidMaps-2017-12-12']"
   ]
  },
  {
   "cell_type": "markdown",
   "metadata": {},
   "source": [
    "### Update datasets"
   ]
  },
  {
   "cell_type": "code",
   "execution_count": null,
   "metadata": {},
   "outputs": [],
   "source": [
    "dataset = sm.dataset(id=datasetId)\n",
    "adducts = dataset.adducts\n",
    "new_databases = list(set(dataset.databases + new_databases))\n",
    "sm.update_dataset_dbs(datasetId, new_databases, adducts, priority=1)"
   ]
  }
 ],
 "metadata": {
  "kernelspec": {
   "display_name": "Python 3",
   "language": "python",
   "name": "python3"
  },
  "language_info": {
   "codemirror_mode": {
    "name": "ipython",
    "version": 3
   },
   "file_extension": ".py",
   "mimetype": "text/x-python",
   "name": "python",
   "nbconvert_exporter": "python",
   "pygments_lexer": "ipython3",
   "version": "3.6.6"
  }
 },
 "nbformat": 4,
 "nbformat_minor": 2
}
