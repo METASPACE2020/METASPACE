{
 "cells": [
  {
   "cell_type": "code",
   "execution_count": 1,
   "metadata": {},
   "outputs": [],
   "source": [
    "import numpy as np\n",
    "import pandas as pd\n",
    "import matplotlib.pyplot as plt\n",
    "import json"
   ]
  },
  {
   "cell_type": "markdown",
   "metadata": {},
   "source": [
    "# Connect to METASPACE API"
   ]
  },
  {
   "cell_type": "code",
   "execution_count": 2,
   "metadata": {},
   "outputs": [
    {
     "name": "stdout",
     "output_type": "stream",
     "text": [
      "Unauthorized. Only public but not private datasets will be accessible.\n"
     ]
    },
    {
     "data": {
      "text/plain": [
       "SMInstance(https://metaspace2020.eu/graphql)"
      ]
     },
     "execution_count": 2,
     "metadata": {},
     "output_type": "execute_result"
    }
   ],
   "source": [
    "from metaspace.sm_annotation_utils import SMInstance\n",
    "sm = SMInstance()\n",
    "sm"
   ]
  },
  {
   "cell_type": "markdown",
   "metadata": {},
   "source": [
    "# Find Datasets of Interest"
   ]
  },
  {
   "cell_type": "code",
   "execution_count": 3,
   "metadata": {},
   "outputs": [],
   "source": [
    "ds_ids = [\n",
    "    '2017-05-17_19h49m04s',\n",
    "    '2017-05-30_06h56m05s',\n",
    "    '2016-09-21_16h06m58s',\n",
    "#     MTBLS501\n",
    "    '2016-09-23_14h25m30s',\n",
    "#     MTBLS502\n",
    "    '2017-06-30_07h26m26s',\n",
    "#     2017-07-11_11h29m36s\n",
    "    '2017-07-11_11h29m36s',\n",
    "#     MTBLS504\n",
    "    '2016-09-21_16h07m45s',\n",
    "    '2017-08-11_07h59m58s',\n",
    "    '2017-08-11_08h01m02s',\n",
    "]"
   ]
  },
  {
   "cell_type": "code",
   "execution_count": 4,
   "metadata": {},
   "outputs": [],
   "source": [
    "ds_id = ds_ids[0]"
   ]
  },
  {
   "cell_type": "code",
   "execution_count": 5,
   "metadata": {},
   "outputs": [],
   "source": [
    "ds = sm.dataset(id=ds_id)"
   ]
  },
  {
   "cell_type": "code",
   "execution_count": 6,
   "metadata": {},
   "outputs": [
    {
     "data": {
      "text/plain": [
       "{'_info': {'id': '2017-05-17_19h49m04s',\n",
       "  'name': 'whole body xenograft (1) [RMS norm]',\n",
       "  'uploadDT': '2017-05-17T15:49:04',\n",
       "  'submitter': {'name': 'Sheerin Latham'},\n",
       "  'group': {'id': '5727e836-e1dd-11e8-9d75-43e32d3abf8c',\n",
       "   'name': 'Genentech',\n",
       "   'shortName': 'Genentech'},\n",
       "  'principalInvestigator': None,\n",
       "  'projects': [{'name': 'Whole body imaging, animal models'}],\n",
       "  'polarity': 'POSITIVE',\n",
       "  'ionisationSource': 'MALDI',\n",
       "  'analyzer': {'type': 'FTICR', 'resolvingPower': 140000},\n",
       "  'organism': 'Mus musculus (mouse)',\n",
       "  'organismPart': 'Whole organism',\n",
       "  'condition': 'Cancer, xenograft',\n",
       "  'growthConditions': 'Caged',\n",
       "  'maldiMatrix': '2,5-dihydroxybenzoic acid (DHB)',\n",
       "  'configJson': '{\"databases\":[\"ChEBI\",\"HMDB-v4\"],\"image_generation\":{\"q\":99,\"nlevels\":30,\"ppm\":3,\"do_preprocessing\":false},\"isotope_generation\":{\"charge\":{\"n_charges\":1,\"polarity\":\"+\"},\"isocalc_sigma\":0.000619,\"adducts\":[\"+H\",\"+Na\",\"+K\"],\"isocalc_pts_per_mz\":8078}}',\n",
       "  'metadataJson': '{\"Data_Type\":\"Imaging MS\",\"Sample_Information\":{\"Condition\":\"Cancer, xenograft\",\"Organism\":\"Mus musculus (mouse)\",\"Organism_Part\":\"Whole organism\",\"Sample_Growth_Conditions\":\"Caged\"},\"Sample_Preparation\":{\"MALDI_Matrix\":\"2,5-dihydroxybenzoic acid (DHB)\",\"Tissue_Modification\":\"None\",\"Sample_Stabilisation\":\"Fresh frozen\",\"MALDI_Matrix_Application\":\"TM sprayer\",\"Solvent\":\"none\"},\"MS_Analysis\":{\"Polarity\":\"Positive\",\"Ionisation_Source\":\"MALDI\",\"Analyzer\":\"FTICR\",\"Detector_Resolving_Power\":{\"Resolving_Power\":140000,\"mz\":400},\"Pixel_Size\":{\"Xaxis\":300,\"Yaxis\":300}},\"Additional_Information\":{\"Supplementary\":\"\"}}',\n",
       "  'isPublic': True,\n",
       "  'molDBs': ['ChEBI', 'HMDB-v4'],\n",
       "  'adducts': ['+H', '+Na', '+K'],\n",
       "  'acquisitionGeometry': '{\"acquisition_grid\":{\"regular_grid\":true,\"spacing_x\":0,\"spacing_y\":0,\"count_y\":102,\"count_x\":345},\"pixel_size\":{\"size_y\":0,\"size_x\":0,\"regular_size\":true},\"length_unit\":\"nm\"}',\n",
       "  'metadataType': 'Imaging MS',\n",
       "  'status': 'FINISHED',\n",
       "  'inputPath': 's3a://sm-engine-upload/0b330433-5a70-4aab-b031-1139067fa6a5'},\n",
       " '_gqclient': <metaspace.sm_annotation_utils.GraphQLClient at 0x7fbe76e7af98>,\n",
       " '_config': {'databases': ['ChEBI', 'HMDB-v4'],\n",
       "  'image_generation': {'q': 99,\n",
       "   'nlevels': 30,\n",
       "   'ppm': 3,\n",
       "   'do_preprocessing': False},\n",
       "  'isotope_generation': {'charge': {'n_charges': 1, 'polarity': '+'},\n",
       "   'isocalc_sigma': 0.000619,\n",
       "   'adducts': ['+H', '+Na', '+K'],\n",
       "   'isocalc_pts_per_mz': 8078}},\n",
       " '_metadata': <metaspace.sm_annotation_utils.Metadata at 0x7fbe76245470>}"
      ]
     },
     "execution_count": 6,
     "metadata": {},
     "output_type": "execute_result"
    }
   ],
   "source": [
    "ds.__dict__"
   ]
  },
  {
   "cell_type": "code",
   "execution_count": 7,
   "metadata": {},
   "outputs": [
    {
     "data": {
      "text/plain": [
       "{'Data_Type': 'Imaging MS',\n",
       " 'Sample_Information': {'Condition': 'Cancer, xenograft',\n",
       "  'Organism': 'Mus musculus (mouse)',\n",
       "  'Organism_Part': 'Whole organism',\n",
       "  'Sample_Growth_Conditions': 'Caged'},\n",
       " 'Sample_Preparation': {'MALDI_Matrix': '2,5-dihydroxybenzoic acid (DHB)',\n",
       "  'Tissue_Modification': 'None',\n",
       "  'Sample_Stabilisation': 'Fresh frozen',\n",
       "  'MALDI_Matrix_Application': 'TM sprayer',\n",
       "  'Solvent': 'none'},\n",
       " 'MS_Analysis': {'Polarity': 'Positive',\n",
       "  'Ionisation_Source': 'MALDI',\n",
       "  'Analyzer': 'FTICR',\n",
       "  'Detector_Resolving_Power': {'Resolving_Power': 140000, 'mz': 400},\n",
       "  'Pixel_Size': {'Xaxis': 300, 'Yaxis': 300}},\n",
       " 'Additional_Information': {'Supplementary': ''}}"
      ]
     },
     "execution_count": 7,
     "metadata": {},
     "output_type": "execute_result"
    }
   ],
   "source": [
    "json.loads(ds.metadata.json)"
   ]
  },
  {
   "cell_type": "code",
   "execution_count": null,
   "metadata": {},
   "outputs": [],
   "source": []
  }
 ],
 "metadata": {
  "kernelspec": {
   "display_name": "sm-api-example",
   "language": "python",
   "name": "sm-api-example"
  },
  "language_info": {
   "codemirror_mode": {
    "name": "ipython",
    "version": 3
   },
   "file_extension": ".py",
   "mimetype": "text/x-python",
   "name": "python",
   "nbconvert_exporter": "python",
   "pygments_lexer": "ipython3",
   "version": "3.6.0"
  }
 },
 "nbformat": 4,
 "nbformat_minor": 2
}
