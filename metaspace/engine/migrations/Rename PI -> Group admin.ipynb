{
 "cells": [
  {
   "cell_type": "code",
   "execution_count": null,
   "metadata": {},
   "outputs": [],
   "source": [
    "import sys\n",
    "engine_path = '~/EMBL/metaspace/metaspace/engine'\n",
    "if engine_path not in set(sys.path):\n",
    "    sys.path.append(engine_path)\n",
    "# sys.path\n",
    "from sm.engine.db import DB\n",
    "from sm.engine.util import SMConfig\n",
    "SMConfig.set_path('../conf/config.json')\n",
    "sm_config = SMConfig.get_conf()\n",
    "db = DB(sm_config['db'])"
   ]
  },
  {
   "cell_type": "code",
   "execution_count": null,
   "metadata": {},
   "outputs": [],
   "source": [
    "# Rename PRINCIPAL_INVESTIGATOR to GROUP ADMIN \n",
    "\n",
    "all_admins = db.select(\"SELECT user_id, role FROM graphql.user_group\")\n",
    "for el in all_admins:\n",
    "    if el[1] == 'PRINCIPAL_INVESTIGATOR':\n",
    "        db.alter(\"UPDATE graphql.user_group SET role = %s where user_id = %s\", [\"GROUP_ADMIN\", el[0]])"
   ]
  },
  {
   "cell_type": "code",
   "execution_count": null,
   "metadata": {},
   "outputs": [],
   "source": []
  }
 ],
 "metadata": {
  "kernelspec": {
   "display_name": "pyconda",
   "language": "python",
   "name": "pyconda"
  },
  "language_info": {
   "codemirror_mode": {
    "name": "ipython",
    "version": 3
   },
   "file_extension": ".py",
   "mimetype": "text/x-python",
   "name": "python",
   "nbconvert_exporter": "python",
   "pygments_lexer": "ipython3",
   "version": "3.6.6"
  }
 },
 "nbformat": 4,
 "nbformat_minor": 2
}
