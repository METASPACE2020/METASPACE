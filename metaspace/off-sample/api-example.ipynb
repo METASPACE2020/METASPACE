{
 "cells": [
  {
   "cell_type": "code",
   "execution_count": 25,
   "metadata": {},
   "outputs": [],
   "source": [
    "%load_ext autoreload\n",
    "%autoreload 2\n",
    "%matplotlib inline"
   ]
  },
  {
   "cell_type": "markdown",
   "metadata": {
    "heading_collapsed": true
   },
   "source": [
    "# Predict from Folder"
   ]
  },
  {
   "cell_type": "code",
   "execution_count": 26,
   "metadata": {
    "hidden": true
   },
   "outputs": [],
   "source": [
    "import sklearn\n",
    "from pathlib import Path"
   ]
  },
  {
   "cell_type": "code",
   "execution_count": 27,
   "metadata": {
    "hidden": true
   },
   "outputs": [
    {
     "data": {
      "text/plain": [
       "('1.0.48', '1.0.1.post2')"
      ]
     },
     "execution_count": 27,
     "metadata": {},
     "output_type": "execute_result"
    }
   ],
   "source": [
    "import fastai\n",
    "import torch\n",
    "fastai.__version__, torch.__version__"
   ]
  },
  {
   "cell_type": "code",
   "execution_count": 476,
   "metadata": {
    "hidden": true
   },
   "outputs": [],
   "source": [
    "from fastai import *\n",
    "from fastai.vision import *"
   ]
  },
  {
   "cell_type": "code",
   "execution_count": 455,
   "metadata": {
    "hidden": true
   },
   "outputs": [
    {
     "data": {
      "text/plain": [
       "'/tmp/tmp/input'"
      ]
     },
     "execution_count": 455,
     "metadata": {},
     "output_type": "execute_result"
    }
   ],
   "source": [
    "test_input_path = '/tmp/tmp/input'\n",
    "test_input_path"
   ]
  },
  {
   "cell_type": "code",
   "execution_count": 11,
   "metadata": {
    "hidden": true
   },
   "outputs": [
    {
     "name": "stdout",
     "output_type": "stream",
     "text": [
      "CPU times: user 24 ms, sys: 36 ms, total: 60 ms\n",
      "Wall time: 59.4 ms\n"
     ]
    },
    {
     "name": "stderr",
     "output_type": "stream",
     "text": [
      "/opt/dev/miniconda3/envs/fastai-cpu/lib/python3.6/site-packages/torch/serialization.py:435: SourceChangeWarning: source code of class 'torchvision.models.resnet.Bottleneck' has changed. you can retrieve the original source code by accessing the object's source attribute or set `torch.nn.Module.dump_patches = True` and use the patch tool to revert the changes.\n",
      "  warnings.warn(msg, SourceChangeWarning)\n"
     ]
    }
   ],
   "source": [
    "%%time\n",
    "export_fn = 'resnet-50.fai'\n",
    "learn = load_learner('.', export_fn)"
   ]
  },
  {
   "cell_type": "code",
   "execution_count": 13,
   "metadata": {
    "hidden": true
   },
   "outputs": [
    {
     "name": "stdout",
     "output_type": "stream",
     "text": [
      "CPU times: user 6.77 s, sys: 1.08 s, total: 7.86 s\n",
      "Wall time: 2.01 s\n"
     ]
    }
   ],
   "source": [
    "%%time\n",
    "test_item_list = ImageList.from_folder(test_input_path)\n",
    "learn.data.add_test(test_item_list)\n",
    "\n",
    "pred_probs, _ = learn.get_preds(DatasetType.Test)\n",
    "pred_probs = pred_probs.numpy()"
   ]
  },
  {
   "cell_type": "code",
   "execution_count": 14,
   "metadata": {
    "hidden": true
   },
   "outputs": [
    {
     "data": {
      "image/png": "[encoded data removed]",
      "text/plain": [
       "<Figure size 432x288 with 1 Axes>"
      ]
     },
     "metadata": {
      "needs_background": "light"
     },
     "output_type": "display_data"
    }
   ],
   "source": [
    "plt.hist(pred_probs[:,0]);"
   ]
  },
  {
   "cell_type": "markdown",
   "metadata": {},
   "source": [
    "# Test Off Sample API"
   ]
  },
  {
   "cell_type": "code",
   "execution_count": 179,
   "metadata": {},
   "outputs": [],
   "source": [
    "from requests import post\n",
    "import json\n",
    "import base64\n",
    "from pathlib import Path\n",
    "import shutil\n",
    "from PIL import Image\n",
    "import io"
   ]
  },
  {
   "cell_type": "code",
   "execution_count": 457,
   "metadata": {},
   "outputs": [
    {
     "data": {
      "text/plain": [
       "434"
      ]
     },
     "execution_count": 457,
     "metadata": {},
     "output_type": "execute_result"
    }
   ],
   "source": [
    "test_input_path = Path('/tmp/tmp/input')\n",
    "image_paths = list(test_input_path.iterdir())\n",
    "len(image_paths)"
   ]
  },
  {
   "cell_type": "code",
   "execution_count": 469,
   "metadata": {},
   "outputs": [],
   "source": [
    "CHUNK_SIZE = 32"
   ]
  },
  {
   "cell_type": "code",
   "execution_count": 470,
   "metadata": {},
   "outputs": [],
   "source": [
    "def make_image_paths_chunk_gen(image_paths, chunk_size):\n",
    "    chunk_n = (len(image_paths) - 1) // chunk_size + 1\n",
    "    image_path_chunks = [image_paths[i*chunk_size:(i+1)*chunk_size] for i in range(chunk_n)]\n",
    "    \n",
    "    for image_path_chunk in image_path_chunks:\n",
    "        yield image_path_chunk"
   ]
  },
  {
   "cell_type": "code",
   "execution_count": 471,
   "metadata": {},
   "outputs": [],
   "source": [
    "# image_path_chunk = next(make_images_chunk_gen(image_paths, CHUNK_SIZE))"
   ]
  },
  {
   "cell_type": "code",
   "execution_count": 464,
   "metadata": {},
   "outputs": [],
   "source": [
    "import base64\n",
    "\n",
    "def convert_images_to_json(image_paths):\n",
    "    base64_images = []\n",
    "    for fp in image_paths:\n",
    "        with open(fp, 'rb') as f:\n",
    "            content = base64.b64encode(f.read()).decode()\n",
    "            base64_images.append(content)\n",
    "    doc = {\n",
    "        'images': [{'content': content} for content in base64_images]\n",
    "    }\n",
    "    return doc"
   ]
  },
  {
   "cell_type": "code",
   "execution_count": 465,
   "metadata": {},
   "outputs": [],
   "source": [
    "from requests import post, get\n",
    "\n",
    "api_host = 'http://localhost:8000'\n",
    "\n",
    "def call_api(uri, doc=None):\n",
    "    if doc:\n",
    "        resp = post(url=api_host + uri, json=doc)\n",
    "    else:\n",
    "        resp = get(url=api_host + uri)\n",
    "    if resp.status_code == 200:\n",
    "        return resp.json()\n",
    "    else:\n",
    "        raise Exception(resp.content.decode())"
   ]
  },
  {
   "cell_type": "code",
   "execution_count": 491,
   "metadata": {},
   "outputs": [
    {
     "name": "stdout",
     "output_type": "stream",
     "text": [
      "{'host': 'intsco-embl', 'status': 'ok'}\n"
     ]
    }
   ],
   "source": [
    "from time import sleep\n",
    "\n",
    "while True:\n",
    "    try:\n",
    "        resp = call_api('/off-sample')\n",
    "    except:\n",
    "        print('Not ready...', end='\\r')\n",
    "    else:\n",
    "        print(resp)\n",
    "        break\n",
    "    sleep(1)"
   ]
  },
  {
   "cell_type": "code",
   "execution_count": 467,
   "metadata": {},
   "outputs": [],
   "source": [
    "# for i in range(14):\n",
    "#     print(call_api('/off-sample'))"
   ]
  },
  {
   "cell_type": "code",
   "execution_count": 492,
   "metadata": {},
   "outputs": [],
   "source": [
    "def predict_chunk(image_paths_chunk):\n",
    "    input_doc = convert_images_to_base64(image_paths_chunk)\n",
    "    resp_doc = call_api('/off-sample/predict', input_doc)\n",
    "    return resp_doc['predictions']"
   ]
  },
  {
   "cell_type": "code",
   "execution_count": 493,
   "metadata": {},
   "outputs": [],
   "source": [
    "from concurrent.futures import ThreadPoolExecutor"
   ]
  },
  {
   "cell_type": "code",
   "execution_count": 497,
   "metadata": {},
   "outputs": [
    {
     "name": "stdout",
     "output_type": "stream",
     "text": [
      "CPU times: user 12 ms, sys: 0 ns, total: 12 ms\n",
      "Wall time: 3.93 s\n"
     ]
    }
   ],
   "source": [
    "%%time\n",
    "threads = 4\n",
    "max_images = CHUNK_SIZE * 2\n",
    "with ThreadPoolExecutor(threads) as pool:\n",
    "    futures = pool.map(predict_chunk, make_images_chunk_gen(image_paths[:max_images], CHUNK_SIZE))\n",
    "    predictions = list(p for preds in futures for p in preds)"
   ]
  },
  {
   "cell_type": "code",
   "execution_count": 498,
   "metadata": {
    "scrolled": false
   },
   "outputs": [
    {
     "data": {
      "text/plain": [
       "64"
      ]
     },
     "execution_count": 498,
     "metadata": {},
     "output_type": "execute_result"
    }
   ],
   "source": [
    "len(predictions)"
   ]
  },
  {
   "cell_type": "code",
   "execution_count": 499,
   "metadata": {},
   "outputs": [
    {
     "data": {
      "text/plain": [
       "[{'prob': 0.00019018923921976238, 'label': 'on'},\n",
       " {'prob': 0.00028150752768851817, 'label': 'on'},\n",
       " {'prob': 0.0014290218241512775, 'label': 'on'},\n",
       " {'prob': 0.9192430973052979, 'label': 'off'},\n",
       " {'prob': 0.9998307228088379, 'label': 'off'}]"
      ]
     },
     "execution_count": 499,
     "metadata": {},
     "output_type": "execute_result"
    }
   ],
   "source": [
    "predictions[:5]"
   ]
  },
  {
   "cell_type": "code",
   "execution_count": null,
   "metadata": {},
   "outputs": [],
   "source": []
  }
 ],
 "metadata": {
  "kernelspec": {
   "display_name": "fastai-cpu",
   "language": "python",
   "name": "fastai-cpu"
  },
  "language_info": {
   "codemirror_mode": {
    "name": "ipython",
    "version": 3
   },
   "file_extension": ".py",
   "mimetype": "text/x-python",
   "name": "python",
   "nbconvert_exporter": "python",
   "pygments_lexer": "ipython3",
   "version": "3.6.8"
  }
 },
 "nbformat": 4,
 "nbformat_minor": 2
}
